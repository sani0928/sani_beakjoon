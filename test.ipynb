{
 "cells": [
  {
   "cell_type": "code",
   "execution_count": 9,
   "metadata": {},
   "outputs": [
    {
     "name": "stdout",
     "output_type": "stream",
     "text": [
      "11 10 9 8 7 6 5 4 3 2 1 0\n"
     ]
    }
   ],
   "source": [
    "i = list(range(int(input())+1))\n",
    "i.reverse()\n",
    "print(*i)"
   ]
  },
  {
   "cell_type": "code",
   "execution_count": 24,
   "metadata": {},
   "outputs": [
    {
     "name": "stdout",
     "output_type": "stream",
     "text": [
      "1 2 5 10 "
     ]
    }
   ],
   "source": [
    "\n",
    "n = int((input()))\n",
    "for i in range(1,n+1):\n",
    "    if n % i == 0:\n",
    "        print(i,end=\" \")"
   ]
  },
  {
   "cell_type": "code",
   "execution_count": null,
   "metadata": {},
   "outputs": [
    {
     "name": "stdout",
     "output_type": "stream",
     "text": [
      "A\n"
     ]
    }
   ],
   "source": [
    "# 가위는 1, 바위는 2, 보는 3\n",
    "\n",
    "s = 1\n",
    "r = 2\n",
    "p = 3\n",
    "\n",
    "# A가 이기는 상황 if\n",
    "\n",
    "fight = input()\n",
    "\n",
    "A, B = map(int, fight.split())\n",
    "\n",
    "if (A == s, B == p) or (A == r, B == s) or (A == p, B == r):\n",
    "    print(\"A\")\n",
    "else:\n",
    "    print(\"B\")"
   ]
  },
  {
   "cell_type": "code",
   "execution_count": 39,
   "metadata": {},
   "outputs": [
    {
     "name": "stdout",
     "output_type": "stream",
     "text": [
      "11\n",
      "5\n",
      "24\n",
      "2\n"
     ]
    }
   ],
   "source": [
    "a, b = map(int, input().split())\n",
    "print(a + b)\n",
    "print(a - b)\n",
    "print(a * b)\n",
    "print(a // b)\n"
   ]
  },
  {
   "cell_type": "code",
   "execution_count": 55,
   "metadata": {},
   "outputs": [
    {
     "name": "stdout",
     "output_type": "stream",
     "text": [
      "1 2 4 8 16 32 64 128 256 "
     ]
    }
   ],
   "source": [
    "n = int(input())\n",
    "i = 1\n",
    "\n",
    "for _ in range(n+1):\n",
    "    print(i,end=\" \")\n",
    "    i *= 2\n",
    "\n",
    "\n"
   ]
  },
  {
   "cell_type": "code",
   "execution_count": 1,
   "metadata": {},
   "outputs": [
    {
     "name": "stdout",
     "output_type": "stream",
     "text": [
      "14 50\n"
     ]
    }
   ],
   "source": [
    "a, b = map(int,input().split())\n",
    "c = int(input()) \n",
    "\n",
    "if b + c >= 60:\n",
    "    a += (b + c) // 60\n",
    "    b = (b + c) % 60\n",
    "else:\n",
    "    b += c\n",
    "\n",
    "a %= 24\n",
    "print(a, b)\n"
   ]
  },
  {
   "cell_type": "code",
   "execution_count": 17,
   "metadata": {},
   "outputs": [
    {
     "name": "stdout",
     "output_type": "stream",
     "text": [
      "206\n"
     ]
    }
   ],
   "source": [
    "\n",
    "\n",
    "while True:\n",
    "    a = int(input())\n",
    "    a += a\n",
    "    if a > 100:\n",
    "        break\n",
    "\n",
    "print(a)\n",
    "\n"
   ]
  },
  {
   "cell_type": "code",
   "execution_count": 1,
   "metadata": {},
   "outputs": [
    {
     "name": "stdout",
     "output_type": "stream",
     "text": [
      "         *\n",
      "        ***\n",
      "       *****\n",
      "      *******\n",
      "     *********\n",
      "      *******\n",
      "       *****\n",
      "        ***\n",
      "         *\n"
     ]
    }
   ],
   "source": [
    "n = int(input())\n",
    "n2 = 2 * n - 1\n",
    "sequence = [2 * i - 1 for i in range(1, n)] + [2 * i - 1 for i in range(n, 0, -1)]\n",
    "\n",
    "\n",
    "for i in range(n2):\n",
    "    a = sequence[i] * '*'\n",
    "    star = '*' * sequence[i]\n",
    "    print(' ' * ((n2 - sequence[i] // 2)) + star)"
   ]
  },
  {
   "cell_type": "code",
   "execution_count": 3,
   "metadata": {},
   "outputs": [
    {
     "name": "stdout",
     "output_type": "stream",
     "text": [
      "    *\n",
      "   ***\n",
      "  *****\n",
      " *******\n",
      "*********\n",
      " *******\n",
      "  *****\n",
      "   ***\n",
      "    *\n"
     ]
    }
   ],
   "source": [
    "n = int(input())  # 다이아몬드의 중심 크기\n",
    "n2 = 2 * n - 1  # 총 줄 개수\n",
    "\n",
    "for i in range(1, n2 + 1):\n",
    "    if i <= n:  # 위쪽 삼각형\n",
    "        spaces = n - i  # 공백 개수\n",
    "        stars = 2 * i - 1  # 별 개수\n",
    "    else:  # 아래쪽 삼각형\n",
    "        spaces = i - n  # 공백 개수\n",
    "        stars = 2 * (2 * n - i) - 1  # 별 개수\n",
    "\n",
    "    print(' ' * spaces + '*' * stars)  # 공백 + 별 출력"
   ]
  },
  {
   "cell_type": "code",
   "execution_count": 2,
   "metadata": {},
   "outputs": [
    {
     "name": "stdout",
     "output_type": "stream",
     "text": [
      "         *\n",
      "        ***\n",
      "       *****\n",
      "      *******\n",
      "     *********\n",
      "      *******\n",
      "       *****\n",
      "        ***\n",
      "         *\n"
     ]
    }
   ],
   "source": [
    "n = int(input())\n",
    "n2 = 2 * n - 1\n",
    "sequence = [2 * i - 1 for i in range(1, n)] + [2 * i - 1 for i in range(n, 0, -1)]\n",
    "\n",
    "# 공백 함수 더하기\n",
    "for i in range(n2):\n",
    "    a = sequence[i] * '*'\n",
    "    space = ' ' * ((n2 - sequence[i] // 2))\n",
    "    star = '*' * sequence[i]\n",
    "    print(space + star)"
   ]
  }
 ],
 "metadata": {
  "kernelspec": {
   "display_name": "Python 3",
   "language": "python",
   "name": "python3"
  },
  "language_info": {
   "codemirror_mode": {
    "name": "ipython",
    "version": 3
   },
   "file_extension": ".py",
   "mimetype": "text/x-python",
   "name": "python",
   "nbconvert_exporter": "python",
   "pygments_lexer": "ipython3",
   "version": "3.9.13"
  }
 },
 "nbformat": 4,
 "nbformat_minor": 2
}
